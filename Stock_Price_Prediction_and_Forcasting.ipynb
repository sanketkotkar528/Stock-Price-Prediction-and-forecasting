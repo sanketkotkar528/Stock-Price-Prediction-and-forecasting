{
  "nbformat": 4,
  "nbformat_minor": 0,
  "metadata": {
    "colab": {
      "name": "Stock Price Prediction and Forcasting.ipynb",
      "provenance": []
    },
    "kernelspec": {
      "name": "python3",
      "display_name": "Python 3"
    }
  },
  "cells": [
    {
      "cell_type": "markdown",
      "metadata": {
        "id": "7nKnyE_ZoXVt"
      },
      "source": [
        "**Stock Price Prediction and Forecasting Using Stack LSTM**"
      ]
    },
    {
      "cell_type": "code",
      "metadata": {
        "id": "0_raoPhso_hb"
      },
      "source": [
        "import pandas as pd \n",
        "import pandas_datareader as pdr"
      ],
      "execution_count": 1,
      "outputs": []
    },
    {
      "cell_type": "code",
      "metadata": {
        "colab": {
          "base_uri": "https://localhost:8080/",
          "height": 306
        },
        "id": "AWwmvo6GoTyC",
        "outputId": "3c60600e-3fae-450d-d203-ae662fcc4c0b"
      },
      "source": [
        "# Loading the dataset \n",
        "Data = pd.read_csv(\"AAPL.csv\")\n",
        "Data.head()"
      ],
      "execution_count": 2,
      "outputs": [
        {
          "output_type": "execute_result",
          "data": {
            "text/html": [
              "<div>\n",
              "<style scoped>\n",
              "    .dataframe tbody tr th:only-of-type {\n",
              "        vertical-align: middle;\n",
              "    }\n",
              "\n",
              "    .dataframe tbody tr th {\n",
              "        vertical-align: top;\n",
              "    }\n",
              "\n",
              "    .dataframe thead th {\n",
              "        text-align: right;\n",
              "    }\n",
              "</style>\n",
              "<table border=\"1\" class=\"dataframe\">\n",
              "  <thead>\n",
              "    <tr style=\"text-align: right;\">\n",
              "      <th></th>\n",
              "      <th>Unnamed: 0</th>\n",
              "      <th>symbol</th>\n",
              "      <th>date</th>\n",
              "      <th>close</th>\n",
              "      <th>high</th>\n",
              "      <th>low</th>\n",
              "      <th>open</th>\n",
              "      <th>volume</th>\n",
              "      <th>adjClose</th>\n",
              "      <th>adjHigh</th>\n",
              "      <th>adjLow</th>\n",
              "      <th>adjOpen</th>\n",
              "      <th>adjVolume</th>\n",
              "      <th>divCash</th>\n",
              "      <th>splitFactor</th>\n",
              "    </tr>\n",
              "  </thead>\n",
              "  <tbody>\n",
              "    <tr>\n",
              "      <th>0</th>\n",
              "      <td>0</td>\n",
              "      <td>AAPL</td>\n",
              "      <td>2015-05-27 00:00:00+00:00</td>\n",
              "      <td>132.045</td>\n",
              "      <td>132.260</td>\n",
              "      <td>130.05</td>\n",
              "      <td>130.34</td>\n",
              "      <td>45833246</td>\n",
              "      <td>121.682558</td>\n",
              "      <td>121.880685</td>\n",
              "      <td>119.844118</td>\n",
              "      <td>120.111360</td>\n",
              "      <td>45833246</td>\n",
              "      <td>0.0</td>\n",
              "      <td>1.0</td>\n",
              "    </tr>\n",
              "    <tr>\n",
              "      <th>1</th>\n",
              "      <td>1</td>\n",
              "      <td>AAPL</td>\n",
              "      <td>2015-05-28 00:00:00+00:00</td>\n",
              "      <td>131.780</td>\n",
              "      <td>131.950</td>\n",
              "      <td>131.10</td>\n",
              "      <td>131.86</td>\n",
              "      <td>30733309</td>\n",
              "      <td>121.438354</td>\n",
              "      <td>121.595013</td>\n",
              "      <td>120.811718</td>\n",
              "      <td>121.512076</td>\n",
              "      <td>30733309</td>\n",
              "      <td>0.0</td>\n",
              "      <td>1.0</td>\n",
              "    </tr>\n",
              "    <tr>\n",
              "      <th>2</th>\n",
              "      <td>2</td>\n",
              "      <td>AAPL</td>\n",
              "      <td>2015-05-29 00:00:00+00:00</td>\n",
              "      <td>130.280</td>\n",
              "      <td>131.450</td>\n",
              "      <td>129.90</td>\n",
              "      <td>131.23</td>\n",
              "      <td>50884452</td>\n",
              "      <td>120.056069</td>\n",
              "      <td>121.134251</td>\n",
              "      <td>119.705890</td>\n",
              "      <td>120.931516</td>\n",
              "      <td>50884452</td>\n",
              "      <td>0.0</td>\n",
              "      <td>1.0</td>\n",
              "    </tr>\n",
              "    <tr>\n",
              "      <th>3</th>\n",
              "      <td>3</td>\n",
              "      <td>AAPL</td>\n",
              "      <td>2015-06-01 00:00:00+00:00</td>\n",
              "      <td>130.535</td>\n",
              "      <td>131.390</td>\n",
              "      <td>130.05</td>\n",
              "      <td>131.20</td>\n",
              "      <td>32112797</td>\n",
              "      <td>120.291057</td>\n",
              "      <td>121.078960</td>\n",
              "      <td>119.844118</td>\n",
              "      <td>120.903870</td>\n",
              "      <td>32112797</td>\n",
              "      <td>0.0</td>\n",
              "      <td>1.0</td>\n",
              "    </tr>\n",
              "    <tr>\n",
              "      <th>4</th>\n",
              "      <td>4</td>\n",
              "      <td>AAPL</td>\n",
              "      <td>2015-06-02 00:00:00+00:00</td>\n",
              "      <td>129.960</td>\n",
              "      <td>130.655</td>\n",
              "      <td>129.32</td>\n",
              "      <td>129.86</td>\n",
              "      <td>33667627</td>\n",
              "      <td>119.761181</td>\n",
              "      <td>120.401640</td>\n",
              "      <td>119.171406</td>\n",
              "      <td>119.669029</td>\n",
              "      <td>33667627</td>\n",
              "      <td>0.0</td>\n",
              "      <td>1.0</td>\n",
              "    </tr>\n",
              "  </tbody>\n",
              "</table>\n",
              "</div>"
            ],
            "text/plain": [
              "   Unnamed: 0 symbol  ... divCash  splitFactor\n",
              "0           0   AAPL  ...     0.0          1.0\n",
              "1           1   AAPL  ...     0.0          1.0\n",
              "2           2   AAPL  ...     0.0          1.0\n",
              "3           3   AAPL  ...     0.0          1.0\n",
              "4           4   AAPL  ...     0.0          1.0\n",
              "\n",
              "[5 rows x 15 columns]"
            ]
          },
          "metadata": {
            "tags": []
          },
          "execution_count": 2
        }
      ]
    },
    {
      "cell_type": "code",
      "metadata": {
        "colab": {
          "base_uri": "https://localhost:8080/",
          "height": 204
        },
        "id": "KIpFb4myp9uE",
        "outputId": "73c614ba-a95f-448a-f17d-36ddb2df5fcb"
      },
      "source": [
        "Data.tail()"
      ],
      "execution_count": 3,
      "outputs": [
        {
          "output_type": "execute_result",
          "data": {
            "text/html": [
              "<div>\n",
              "<style scoped>\n",
              "    .dataframe tbody tr th:only-of-type {\n",
              "        vertical-align: middle;\n",
              "    }\n",
              "\n",
              "    .dataframe tbody tr th {\n",
              "        vertical-align: top;\n",
              "    }\n",
              "\n",
              "    .dataframe thead th {\n",
              "        text-align: right;\n",
              "    }\n",
              "</style>\n",
              "<table border=\"1\" class=\"dataframe\">\n",
              "  <thead>\n",
              "    <tr style=\"text-align: right;\">\n",
              "      <th></th>\n",
              "      <th>Unnamed: 0</th>\n",
              "      <th>symbol</th>\n",
              "      <th>date</th>\n",
              "      <th>close</th>\n",
              "      <th>high</th>\n",
              "      <th>low</th>\n",
              "      <th>open</th>\n",
              "      <th>volume</th>\n",
              "      <th>adjClose</th>\n",
              "      <th>adjHigh</th>\n",
              "      <th>adjLow</th>\n",
              "      <th>adjOpen</th>\n",
              "      <th>adjVolume</th>\n",
              "      <th>divCash</th>\n",
              "      <th>splitFactor</th>\n",
              "    </tr>\n",
              "  </thead>\n",
              "  <tbody>\n",
              "    <tr>\n",
              "      <th>1253</th>\n",
              "      <td>1253</td>\n",
              "      <td>AAPL</td>\n",
              "      <td>2020-05-18 00:00:00+00:00</td>\n",
              "      <td>314.96</td>\n",
              "      <td>316.50</td>\n",
              "      <td>310.3241</td>\n",
              "      <td>313.17</td>\n",
              "      <td>33843125</td>\n",
              "      <td>314.96</td>\n",
              "      <td>316.50</td>\n",
              "      <td>310.3241</td>\n",
              "      <td>313.17</td>\n",
              "      <td>33843125</td>\n",
              "      <td>0.0</td>\n",
              "      <td>1.0</td>\n",
              "    </tr>\n",
              "    <tr>\n",
              "      <th>1254</th>\n",
              "      <td>1254</td>\n",
              "      <td>AAPL</td>\n",
              "      <td>2020-05-19 00:00:00+00:00</td>\n",
              "      <td>313.14</td>\n",
              "      <td>318.52</td>\n",
              "      <td>313.0100</td>\n",
              "      <td>315.03</td>\n",
              "      <td>25432385</td>\n",
              "      <td>313.14</td>\n",
              "      <td>318.52</td>\n",
              "      <td>313.0100</td>\n",
              "      <td>315.03</td>\n",
              "      <td>25432385</td>\n",
              "      <td>0.0</td>\n",
              "      <td>1.0</td>\n",
              "    </tr>\n",
              "    <tr>\n",
              "      <th>1255</th>\n",
              "      <td>1255</td>\n",
              "      <td>AAPL</td>\n",
              "      <td>2020-05-20 00:00:00+00:00</td>\n",
              "      <td>319.23</td>\n",
              "      <td>319.52</td>\n",
              "      <td>316.2000</td>\n",
              "      <td>316.68</td>\n",
              "      <td>27876215</td>\n",
              "      <td>319.23</td>\n",
              "      <td>319.52</td>\n",
              "      <td>316.2000</td>\n",
              "      <td>316.68</td>\n",
              "      <td>27876215</td>\n",
              "      <td>0.0</td>\n",
              "      <td>1.0</td>\n",
              "    </tr>\n",
              "    <tr>\n",
              "      <th>1256</th>\n",
              "      <td>1256</td>\n",
              "      <td>AAPL</td>\n",
              "      <td>2020-05-21 00:00:00+00:00</td>\n",
              "      <td>316.85</td>\n",
              "      <td>320.89</td>\n",
              "      <td>315.8700</td>\n",
              "      <td>318.66</td>\n",
              "      <td>25672211</td>\n",
              "      <td>316.85</td>\n",
              "      <td>320.89</td>\n",
              "      <td>315.8700</td>\n",
              "      <td>318.66</td>\n",
              "      <td>25672211</td>\n",
              "      <td>0.0</td>\n",
              "      <td>1.0</td>\n",
              "    </tr>\n",
              "    <tr>\n",
              "      <th>1257</th>\n",
              "      <td>1257</td>\n",
              "      <td>AAPL</td>\n",
              "      <td>2020-05-22 00:00:00+00:00</td>\n",
              "      <td>318.89</td>\n",
              "      <td>319.23</td>\n",
              "      <td>315.3500</td>\n",
              "      <td>315.77</td>\n",
              "      <td>20450754</td>\n",
              "      <td>318.89</td>\n",
              "      <td>319.23</td>\n",
              "      <td>315.3500</td>\n",
              "      <td>315.77</td>\n",
              "      <td>20450754</td>\n",
              "      <td>0.0</td>\n",
              "      <td>1.0</td>\n",
              "    </tr>\n",
              "  </tbody>\n",
              "</table>\n",
              "</div>"
            ],
            "text/plain": [
              "      Unnamed: 0 symbol  ... divCash  splitFactor\n",
              "1253        1253   AAPL  ...     0.0          1.0\n",
              "1254        1254   AAPL  ...     0.0          1.0\n",
              "1255        1255   AAPL  ...     0.0          1.0\n",
              "1256        1256   AAPL  ...     0.0          1.0\n",
              "1257        1257   AAPL  ...     0.0          1.0\n",
              "\n",
              "[5 rows x 15 columns]"
            ]
          },
          "metadata": {
            "tags": []
          },
          "execution_count": 3
        }
      ]
    },
    {
      "cell_type": "code",
      "metadata": {
        "colab": {
          "base_uri": "https://localhost:8080/"
        },
        "id": "XXYsurdXp-Pd",
        "outputId": "70b33dc8-597d-4099-bd93-b18595357447"
      },
      "source": [
        "# Resetting the data index \n",
        "Data_1 = Data.reset_index()['close']\n",
        "Data_1.head()"
      ],
      "execution_count": 4,
      "outputs": [
        {
          "output_type": "execute_result",
          "data": {
            "text/plain": [
              "0    132.045\n",
              "1    131.780\n",
              "2    130.280\n",
              "3    130.535\n",
              "4    129.960\n",
              "Name: close, dtype: float64"
            ]
          },
          "metadata": {
            "tags": []
          },
          "execution_count": 4
        }
      ]
    },
    {
      "cell_type": "code",
      "metadata": {
        "colab": {
          "base_uri": "https://localhost:8080/"
        },
        "id": "Vf6KmhC7phLU",
        "outputId": "b3b75d9d-fa2d-4c0c-ac94-0bc9c6e9dd97"
      },
      "source": [
        "Data_1.shape"
      ],
      "execution_count": 5,
      "outputs": [
        {
          "output_type": "execute_result",
          "data": {
            "text/plain": [
              "(1258,)"
            ]
          },
          "metadata": {
            "tags": []
          },
          "execution_count": 5
        }
      ]
    },
    {
      "cell_type": "code",
      "metadata": {
        "colab": {
          "base_uri": "https://localhost:8080/",
          "height": 282
        },
        "id": "GofX2SYRqtBA",
        "outputId": "993aaed0-1992-4198-8757-f34a805cf4e9"
      },
      "source": [
        "# Importing the maatplotlib for visualisation\n",
        "\n",
        "import matplotlib.pyplot as plt\n",
        "\n",
        "plt.plot(Data_1)"
      ],
      "execution_count": 6,
      "outputs": [
        {
          "output_type": "execute_result",
          "data": {
            "text/plain": [
              "[<matplotlib.lines.Line2D at 0x7f5e9859e518>]"
            ]
          },
          "metadata": {
            "tags": []
          },
          "execution_count": 6
        },
        {
          "output_type": "display_data",
          "data": {
            "image/png": "[encoded data removed]",
            "text/plain": [
              "<Figure size 432x288 with 1 Axes>"
            ]
          },
          "metadata": {
            "tags": [],
            "needs_background": "light"
          }
        }
      ]
    },
    {
      "cell_type": "code",
      "metadata": {
        "id": "JVbjZcRcqtQJ"
      },
      "source": [
        "import numpy as np"
      ],
      "execution_count": 7,
      "outputs": []
    },
    {
      "cell_type": "markdown",
      "metadata": {
        "id": "4LzR_p6gz8XP"
      },
      "source": [
        "**Scalling the data**"
      ]
    },
    {
      "cell_type": "code",
      "metadata": {
        "id": "R09bY-8bz6kL"
      },
      "source": [
        "from sklearn.preprocessing import MinMaxScaler\n",
        "\n",
        "Scalar = MinMaxScaler(feature_range = (0,1))\n",
        "Data_1  = Scalar.fit_transform( np.array(Data_1).reshape(-1,1) )\n"
      ],
      "execution_count": 8,
      "outputs": []
    },
    {
      "cell_type": "code",
      "metadata": {
        "colab": {
          "base_uri": "https://localhost:8080/"
        },
        "id": "8qqtoEt8078_",
        "outputId": "6b091b17-db42-4250-ffae-ef2b785e717a"
      },
      "source": [
        "print(Data_1)"
      ],
      "execution_count": 9,
      "outputs": [
        {
          "output_type": "stream",
          "text": [
            "[[0.17607447]\n",
            " [0.17495567]\n",
            " [0.16862282]\n",
            " ...\n",
            " [0.96635143]\n",
            " [0.9563033 ]\n",
            " [0.96491598]]\n"
          ],
          "name": "stdout"
        }
      ]
    },
    {
      "cell_type": "code",
      "metadata": {
        "colab": {
          "base_uri": "https://localhost:8080/"
        },
        "id": "h88WQW3D2M-I",
        "outputId": "1aa14f75-776e-44fc-a69c-9bff6e02caa2"
      },
      "source": [
        "Data_1.shape"
      ],
      "execution_count": 10,
      "outputs": [
        {
          "output_type": "execute_result",
          "data": {
            "text/plain": [
              "(1258, 1)"
            ]
          },
          "metadata": {
            "tags": []
          },
          "execution_count": 10
        }
      ]
    },
    {
      "cell_type": "markdown",
      "metadata": {
        "id": "tku6mFV9rglT"
      },
      "source": [
        "Spliting the Data"
      ]
    },
    {
      "cell_type": "code",
      "metadata": {
        "id": "neuCxFQAqthS"
      },
      "source": [
        "Training_size = int(len(Data_1)*0.65)\n",
        "Testing_size = int(len(Data_1) - Training_size)\n"
      ],
      "execution_count": 11,
      "outputs": []
    },
    {
      "cell_type": "code",
      "metadata": {
        "id": "3ddTza2OqtEc"
      },
      "source": [
        "Training_data = Data_1[0:Training_size,:]\n",
        "Testing_data = Data_1[Training_size:len(Data_1),:1]\n"
      ],
      "execution_count": 12,
      "outputs": []
    },
    {
      "cell_type": "code",
      "metadata": {
        "colab": {
          "base_uri": "https://localhost:8080/"
        },
        "id": "wBBmD6jRqs7Y",
        "outputId": "eb9db106-1c47-45d1-a5c5-aa509b8be185"
      },
      "source": [
        "print(Training_data.shape) ; print(Testing_data.shape)"
      ],
      "execution_count": 13,
      "outputs": [
        {
          "output_type": "stream",
          "text": [
            "(817, 1)\n",
            "(441, 1)\n"
          ],
          "name": "stdout"
        }
      ]
    },
    {
      "cell_type": "markdown",
      "metadata": {
        "id": "ahgSVaURtyc6"
      },
      "source": [
        "**Function for creating the dataset which will be input to stack LSTM**"
      ]
    },
    {
      "cell_type": "code",
      "metadata": {
        "id": "9gDwCDB0txzr"
      },
      "source": [
        "def create_dataset(dataset,time_step = 1):\n",
        "  data_x , data_y = [], []\n",
        "  for i in range(len(dataset)- time_step - 1):\n",
        "    a = dataset[i:(i + time_step), 0] \n",
        "    data_x.append(a)\n",
        "    data_y.append(dataset[i + time_step, 0 ])\n",
        "  return np.array(data_x),np.array(data_y)\n"
      ],
      "execution_count": 14,
      "outputs": []
    },
    {
      "cell_type": "code",
      "metadata": {
        "id": "kNctNgjPwJML"
      },
      "source": [
        "# Creating the training dataset and testing dataset\n",
        "Time_step = 100 \n",
        "X_Train, Y_Train = create_dataset(Training_data,time_step= Time_step )\n",
        "X_Test, Y_Test = create_dataset( Testing_data, Time_step )"
      ],
      "execution_count": 15,
      "outputs": []
    },
    {
      "cell_type": "code",
      "metadata": {
        "colab": {
          "base_uri": "https://localhost:8080/"
        },
        "id": "2y2zHAoH5BHE",
        "outputId": "74dff418-3a32-4599-982c-a8486609e347"
      },
      "source": [
        "X_Test.shape"
      ],
      "execution_count": 18,
      "outputs": [
        {
          "output_type": "execute_result",
          "data": {
            "text/plain": [
              "(340, 100)"
            ]
          },
          "metadata": {
            "tags": []
          },
          "execution_count": 18
        }
      ]
    },
    {
      "cell_type": "code",
      "metadata": {
        "id": "xbo5i8D23lkY"
      },
      "source": [
        "# Reshaping the samples to be [ samples, time_step, features ] whih is required of LSTM \n",
        "X_Train = X_Train.reshape( X_Train.shape[0], X_Train.shape[1], 1)\n",
        "X_Test = X_Test.reshape( X_Test.shape[0], X_Test.shape[1] ,1 ) "
      ],
      "execution_count": 19,
      "outputs": []
    },
    {
      "cell_type": "code",
      "metadata": {
        "colab": {
          "base_uri": "https://localhost:8080/"
        },
        "id": "SHPep_lt3mDb",
        "outputId": "5627e8b5-c82e-4b97-e8a7-284b277d4839"
      },
      "source": [
        "print(X_Train.shape) ; print(X_Test.shape)"
      ],
      "execution_count": 20,
      "outputs": [
        {
          "output_type": "stream",
          "text": [
            "(716, 100, 1)\n",
            "(340, 100, 1)\n"
          ],
          "name": "stdout"
        }
      ]
    },
    {
      "cell_type": "markdown",
      "metadata": {
        "id": "DmmKT4Cu6iTk"
      },
      "source": [
        "**Create the stack LSTM Model**"
      ]
    },
    {
      "cell_type": "code",
      "metadata": {
        "id": "tJt_7kHu3l0A"
      },
      "source": [
        "# Importing the modules required for building the stack LSRM model \n",
        "from tensorflow.keras.models import Sequential\n",
        "from tensorflow.keras.layers import Dense\n",
        "from tensorflow.keras.layers import LSTM\n"
      ],
      "execution_count": 21,
      "outputs": []
    },
    {
      "cell_type": "code",
      "metadata": {
        "id": "yAax2ejM3lWU"
      },
      "source": [
        "Model = Sequential()\n",
        "Model.add(LSTM(50,return_sequences=True, input_shape = (100,1)))\n",
        "Model.add(LSTM(50, return_sequences=True))\n",
        "Model.add(LSTM(50))\n",
        "Model.add(Dense(1))\n",
        "Model.compile(loss='mean_squared_error', optimizer = 'adam')"
      ],
      "execution_count": 23,
      "outputs": []
    },
    {
      "cell_type": "code",
      "metadata": {
        "colab": {
          "base_uri": "https://localhost:8080/"
        },
        "id": "pF8uRrpkD2Q1",
        "outputId": "1fc8a254-f14f-4677-fe7a-06140e332db1"
      },
      "source": [
        "Model.summary()"
      ],
      "execution_count": 25,
      "outputs": [
        {
          "output_type": "stream",
          "text": [
            "Model: \"sequential_1\"\n",
            "_________________________________________________________________\n",
            "Layer (type)                 Output Shape              Param #   \n",
            "=================================================================\n",
            "lstm_3 (LSTM)                (None, 100, 50)           10400     \n",
            "_________________________________________________________________\n",
            "lstm_4 (LSTM)                (None, 100, 50)           20200     \n",
            "_________________________________________________________________\n",
            "lstm_5 (LSTM)                (None, 50)                20200     \n",
            "_________________________________________________________________\n",
            "dense_1 (Dense)              (None, 1)                 51        \n",
            "=================================================================\n",
            "Total params: 50,851\n",
            "Trainable params: 50,851\n",
            "Non-trainable params: 0\n",
            "_________________________________________________________________\n"
          ],
          "name": "stdout"
        }
      ]
    },
    {
      "cell_type": "code",
      "metadata": {
        "colab": {
          "base_uri": "https://localhost:8080/"
        },
        "id": "_E1FWTRUD2x-",
        "outputId": "213a0b3d-b1a9-4124-b4e8-1c08421c59ec"
      },
      "source": [
        "Model.fit(X_Train,Y_Train,validation_data=(X_Test,Y_Test),epochs = 100, batch_size=64, verbose = 1 )"
      ],
      "execution_count": 28,
      "outputs": [
        {
          "output_type": "stream",
          "text": [
            "Epoch 1/100\n",
            "12/12 [==============================] - 3s 280ms/step - loss: 0.0222 - val_loss: 0.0409\n",
            "Epoch 2/100\n",
            "12/12 [==============================] - 2s 185ms/step - loss: 0.0042 - val_loss: 0.0044\n",
            "Epoch 3/100\n",
            "12/12 [==============================] - 2s 184ms/step - loss: 0.0012 - val_loss: 0.0042\n",
            "Epoch 4/100\n",
            "12/12 [==============================] - 2s 186ms/step - loss: 8.8318e-04 - val_loss: 0.0062\n",
            "Epoch 5/100\n",
            "12/12 [==============================] - 2s 187ms/step - loss: 6.9140e-04 - val_loss: 0.0051\n",
            "Epoch 6/100\n",
            "12/12 [==============================] - 2s 188ms/step - loss: 6.3069e-04 - val_loss: 0.0041\n",
            "Epoch 7/100\n",
            "12/12 [==============================] - 2s 187ms/step - loss: 6.3881e-04 - val_loss: 0.0039\n",
            "Epoch 8/100\n",
            "12/12 [==============================] - 2s 188ms/step - loss: 6.4220e-04 - val_loss: 0.0046\n",
            "Epoch 9/100\n",
            "12/12 [==============================] - 2s 185ms/step - loss: 6.3816e-04 - val_loss: 0.0046\n",
            "Epoch 10/100\n",
            "12/12 [==============================] - 2s 193ms/step - loss: 6.4337e-04 - val_loss: 0.0051\n",
            "Epoch 11/100\n",
            "12/12 [==============================] - 2s 187ms/step - loss: 6.3155e-04 - val_loss: 0.0046\n",
            "Epoch 12/100\n",
            "12/12 [==============================] - 2s 187ms/step - loss: 5.9261e-04 - val_loss: 0.0044\n",
            "Epoch 13/100\n",
            "12/12 [==============================] - 2s 186ms/step - loss: 5.9513e-04 - val_loss: 0.0040\n",
            "Epoch 14/100\n",
            "12/12 [==============================] - 2s 188ms/step - loss: 5.7286e-04 - val_loss: 0.0038\n",
            "Epoch 15/100\n",
            "12/12 [==============================] - 2s 184ms/step - loss: 5.6709e-04 - val_loss: 0.0040\n",
            "Epoch 16/100\n",
            "12/12 [==============================] - 2s 196ms/step - loss: 5.4842e-04 - val_loss: 0.0038\n",
            "Epoch 17/100\n",
            "12/12 [==============================] - 2s 195ms/step - loss: 5.7321e-04 - val_loss: 0.0031\n",
            "Epoch 18/100\n",
            "12/12 [==============================] - 3s 217ms/step - loss: 5.5536e-04 - val_loss: 0.0030\n",
            "Epoch 19/100\n",
            "12/12 [==============================] - 3s 240ms/step - loss: 5.3912e-04 - val_loss: 0.0029\n",
            "Epoch 20/100\n",
            "12/12 [==============================] - 3s 227ms/step - loss: 5.0825e-04 - val_loss: 0.0028\n",
            "Epoch 21/100\n",
            "12/12 [==============================] - 2s 193ms/step - loss: 5.2687e-04 - val_loss: 0.0027\n",
            "Epoch 22/100\n",
            "12/12 [==============================] - 2s 194ms/step - loss: 4.8815e-04 - val_loss: 0.0029\n",
            "Epoch 23/100\n",
            "12/12 [==============================] - 2s 193ms/step - loss: 4.7659e-04 - val_loss: 0.0028\n",
            "Epoch 24/100\n",
            "12/12 [==============================] - 2s 193ms/step - loss: 5.5216e-04 - val_loss: 0.0029\n",
            "Epoch 25/100\n",
            "12/12 [==============================] - 2s 187ms/step - loss: 4.9886e-04 - val_loss: 0.0023\n",
            "Epoch 26/100\n",
            "12/12 [==============================] - 2s 195ms/step - loss: 4.8376e-04 - val_loss: 0.0023\n",
            "Epoch 27/100\n",
            "12/12 [==============================] - 2s 190ms/step - loss: 4.5929e-04 - val_loss: 0.0021\n",
            "Epoch 28/100\n",
            "12/12 [==============================] - 2s 189ms/step - loss: 4.4389e-04 - val_loss: 0.0023\n",
            "Epoch 29/100\n",
            "12/12 [==============================] - 2s 188ms/step - loss: 4.3222e-04 - val_loss: 0.0020\n",
            "Epoch 30/100\n",
            "12/12 [==============================] - 2s 184ms/step - loss: 4.4299e-04 - val_loss: 0.0021\n",
            "Epoch 31/100\n",
            "12/12 [==============================] - 2s 188ms/step - loss: 4.3365e-04 - val_loss: 0.0022\n",
            "Epoch 32/100\n",
            "12/12 [==============================] - 2s 188ms/step - loss: 4.2299e-04 - val_loss: 0.0022\n",
            "Epoch 33/100\n",
            "12/12 [==============================] - 2s 193ms/step - loss: 3.9278e-04 - val_loss: 0.0018\n",
            "Epoch 34/100\n",
            "12/12 [==============================] - 2s 192ms/step - loss: 3.8309e-04 - val_loss: 0.0018\n",
            "Epoch 35/100\n",
            "12/12 [==============================] - 2s 193ms/step - loss: 3.8269e-04 - val_loss: 0.0016\n",
            "Epoch 36/100\n",
            "12/12 [==============================] - 2s 195ms/step - loss: 3.7381e-04 - val_loss: 0.0018\n",
            "Epoch 37/100\n",
            "12/12 [==============================] - 2s 191ms/step - loss: 4.0034e-04 - val_loss: 0.0020\n",
            "Epoch 38/100\n",
            "12/12 [==============================] - 2s 194ms/step - loss: 3.6849e-04 - val_loss: 0.0022\n",
            "Epoch 39/100\n",
            "12/12 [==============================] - 2s 191ms/step - loss: 3.5801e-04 - val_loss: 0.0017\n",
            "Epoch 40/100\n",
            "12/12 [==============================] - 2s 195ms/step - loss: 3.7680e-04 - val_loss: 0.0021\n",
            "Epoch 41/100\n",
            "12/12 [==============================] - 2s 197ms/step - loss: 3.4460e-04 - val_loss: 0.0018\n",
            "Epoch 42/100\n",
            "12/12 [==============================] - 2s 195ms/step - loss: 3.3888e-04 - val_loss: 0.0016\n",
            "Epoch 43/100\n",
            "12/12 [==============================] - 2s 194ms/step - loss: 3.9047e-04 - val_loss: 0.0028\n",
            "Epoch 44/100\n",
            "12/12 [==============================] - 2s 193ms/step - loss: 3.6941e-04 - val_loss: 0.0016\n",
            "Epoch 45/100\n",
            "12/12 [==============================] - 2s 193ms/step - loss: 3.7699e-04 - val_loss: 0.0041\n",
            "Epoch 46/100\n",
            "12/12 [==============================] - 2s 198ms/step - loss: 3.9910e-04 - val_loss: 0.0018\n",
            "Epoch 47/100\n",
            "12/12 [==============================] - 2s 196ms/step - loss: 3.2214e-04 - val_loss: 0.0026\n",
            "Epoch 48/100\n",
            "12/12 [==============================] - 3s 229ms/step - loss: 3.3341e-04 - val_loss: 0.0019\n",
            "Epoch 49/100\n",
            "12/12 [==============================] - 3s 253ms/step - loss: 3.1873e-04 - val_loss: 0.0019\n",
            "Epoch 50/100\n",
            "12/12 [==============================] - 3s 252ms/step - loss: 3.0740e-04 - val_loss: 0.0015\n",
            "Epoch 51/100\n",
            "12/12 [==============================] - 3s 262ms/step - loss: 3.1605e-04 - val_loss: 0.0021\n",
            "Epoch 52/100\n",
            "12/12 [==============================] - 3s 228ms/step - loss: 3.0343e-04 - val_loss: 0.0016\n",
            "Epoch 53/100\n",
            "12/12 [==============================] - 3s 240ms/step - loss: 3.0080e-04 - val_loss: 0.0019\n",
            "Epoch 54/100\n",
            "12/12 [==============================] - 3s 225ms/step - loss: 3.1934e-04 - val_loss: 0.0018\n",
            "Epoch 55/100\n",
            "12/12 [==============================] - 3s 220ms/step - loss: 3.3447e-04 - val_loss: 0.0018\n",
            "Epoch 56/100\n",
            "12/12 [==============================] - 2s 189ms/step - loss: 2.9373e-04 - val_loss: 0.0016\n",
            "Epoch 57/100\n",
            "12/12 [==============================] - 2s 191ms/step - loss: 2.8550e-04 - val_loss: 0.0025\n",
            "Epoch 58/100\n",
            "12/12 [==============================] - 2s 196ms/step - loss: 3.0723e-04 - val_loss: 0.0027\n",
            "Epoch 59/100\n",
            "12/12 [==============================] - 2s 191ms/step - loss: 2.9407e-04 - val_loss: 0.0015\n",
            "Epoch 60/100\n",
            "12/12 [==============================] - 2s 197ms/step - loss: 2.8219e-04 - val_loss: 0.0027\n",
            "Epoch 61/100\n",
            "12/12 [==============================] - 2s 194ms/step - loss: 2.7784e-04 - val_loss: 0.0015\n",
            "Epoch 62/100\n",
            "12/12 [==============================] - 2s 189ms/step - loss: 2.7307e-04 - val_loss: 0.0019\n",
            "Epoch 63/100\n",
            "12/12 [==============================] - 2s 189ms/step - loss: 2.7597e-04 - val_loss: 0.0021\n",
            "Epoch 64/100\n",
            "12/12 [==============================] - 2s 190ms/step - loss: 3.1176e-04 - val_loss: 0.0014\n",
            "Epoch 65/100\n",
            "12/12 [==============================] - 2s 190ms/step - loss: 2.5651e-04 - val_loss: 0.0018\n",
            "Epoch 66/100\n",
            "12/12 [==============================] - 2s 191ms/step - loss: 2.7987e-04 - val_loss: 0.0015\n",
            "Epoch 67/100\n",
            "12/12 [==============================] - 2s 189ms/step - loss: 2.4437e-04 - val_loss: 0.0024\n",
            "Epoch 68/100\n",
            "12/12 [==============================] - 2s 193ms/step - loss: 2.4485e-04 - val_loss: 0.0013\n",
            "Epoch 69/100\n",
            "12/12 [==============================] - 2s 190ms/step - loss: 2.3578e-04 - val_loss: 0.0015\n",
            "Epoch 70/100\n",
            "12/12 [==============================] - 2s 189ms/step - loss: 2.5091e-04 - val_loss: 0.0013\n",
            "Epoch 71/100\n",
            "12/12 [==============================] - 2s 193ms/step - loss: 2.2768e-04 - val_loss: 0.0017\n",
            "Epoch 72/100\n",
            "12/12 [==============================] - 2s 189ms/step - loss: 2.6298e-04 - val_loss: 0.0013\n",
            "Epoch 73/100\n",
            "12/12 [==============================] - 2s 191ms/step - loss: 2.1396e-04 - val_loss: 0.0018\n",
            "Epoch 74/100\n",
            "12/12 [==============================] - 2s 191ms/step - loss: 2.1438e-04 - val_loss: 0.0014\n",
            "Epoch 75/100\n",
            "12/12 [==============================] - 2s 196ms/step - loss: 2.0882e-04 - val_loss: 0.0014\n",
            "Epoch 76/100\n",
            "12/12 [==============================] - 2s 189ms/step - loss: 2.2308e-04 - val_loss: 0.0013\n",
            "Epoch 77/100\n",
            "12/12 [==============================] - 2s 190ms/step - loss: 2.1112e-04 - val_loss: 0.0017\n",
            "Epoch 78/100\n",
            "12/12 [==============================] - 2s 190ms/step - loss: 2.2577e-04 - val_loss: 0.0015\n",
            "Epoch 79/100\n",
            "12/12 [==============================] - 2s 194ms/step - loss: 2.1649e-04 - val_loss: 0.0013\n",
            "Epoch 80/100\n",
            "12/12 [==============================] - 2s 190ms/step - loss: 1.9785e-04 - val_loss: 0.0014\n",
            "Epoch 81/100\n",
            "12/12 [==============================] - 2s 190ms/step - loss: 2.2794e-04 - val_loss: 0.0022\n",
            "Epoch 82/100\n",
            "12/12 [==============================] - 2s 193ms/step - loss: 2.3696e-04 - val_loss: 0.0012\n",
            "Epoch 83/100\n",
            "12/12 [==============================] - 2s 190ms/step - loss: 1.9542e-04 - val_loss: 0.0014\n",
            "Epoch 84/100\n",
            "12/12 [==============================] - 2s 190ms/step - loss: 2.0395e-04 - val_loss: 0.0013\n",
            "Epoch 85/100\n",
            "12/12 [==============================] - 2s 192ms/step - loss: 1.8459e-04 - val_loss: 0.0012\n",
            "Epoch 86/100\n",
            "12/12 [==============================] - 2s 197ms/step - loss: 1.9059e-04 - val_loss: 0.0012\n",
            "Epoch 87/100\n",
            "12/12 [==============================] - 2s 198ms/step - loss: 1.7307e-04 - val_loss: 0.0012\n",
            "Epoch 88/100\n",
            "12/12 [==============================] - 2s 195ms/step - loss: 1.9349e-04 - val_loss: 0.0019\n",
            "Epoch 89/100\n",
            "12/12 [==============================] - 2s 192ms/step - loss: 1.9493e-04 - val_loss: 0.0012\n",
            "Epoch 90/100\n",
            "12/12 [==============================] - 2s 194ms/step - loss: 1.6331e-04 - val_loss: 0.0014\n",
            "Epoch 91/100\n",
            "12/12 [==============================] - 2s 190ms/step - loss: 1.7166e-04 - val_loss: 0.0012\n",
            "Epoch 92/100\n",
            "12/12 [==============================] - 2s 198ms/step - loss: 1.6560e-04 - val_loss: 0.0012\n",
            "Epoch 93/100\n",
            "12/12 [==============================] - 2s 190ms/step - loss: 1.5849e-04 - val_loss: 0.0012\n",
            "Epoch 94/100\n",
            "12/12 [==============================] - 2s 188ms/step - loss: 1.5565e-04 - val_loss: 0.0012\n",
            "Epoch 95/100\n",
            "12/12 [==============================] - 2s 192ms/step - loss: 1.5198e-04 - val_loss: 0.0015\n",
            "Epoch 96/100\n",
            "12/12 [==============================] - 2s 194ms/step - loss: 1.8776e-04 - val_loss: 0.0012\n",
            "Epoch 97/100\n",
            "12/12 [==============================] - 2s 192ms/step - loss: 1.7774e-04 - val_loss: 0.0012\n",
            "Epoch 98/100\n",
            "12/12 [==============================] - 2s 198ms/step - loss: 1.6329e-04 - val_loss: 0.0013\n",
            "Epoch 99/100\n",
            "12/12 [==============================] - 2s 191ms/step - loss: 1.5165e-04 - val_loss: 0.0012\n",
            "Epoch 100/100\n",
            "12/12 [==============================] - 2s 198ms/step - loss: 1.5089e-04 - val_loss: 0.0016\n"
          ],
          "name": "stdout"
        },
        {
          "output_type": "execute_result",
          "data": {
            "text/plain": [
              "<tensorflow.python.keras.callbacks.History at 0x7f5e4f70e710>"
            ]
          },
          "metadata": {
            "tags": []
          },
          "execution_count": 28
        }
      ]
    },
    {
      "cell_type": "markdown",
      "metadata": {
        "id": "Gr85Qr8hG-U1"
      },
      "source": [
        "**Testing the dataset**"
      ]
    },
    {
      "cell_type": "code",
      "metadata": {
        "id": "BomxiWG1F0_4"
      },
      "source": [
        "Train_Predict = Model.predict(X_Train)\n",
        "Test_predict = Model.predict(X_Test)"
      ],
      "execution_count": 29,
      "outputs": []
    },
    {
      "cell_type": "code",
      "metadata": {
        "id": "8AAWfGgsFLal"
      },
      "source": [
        "Train_Predict = Scalar.inverse_transform(Train_Predict)\n",
        "Test_predict = Scalar.inverse_transform(Test_predict)"
      ],
      "execution_count": 30,
      "outputs": []
    },
    {
      "cell_type": "markdown",
      "metadata": {
        "id": "gyOu7woWHsW-"
      },
      "source": [
        "Calculating the performance / error "
      ]
    },
    {
      "cell_type": "markdown",
      "metadata": {
        "id": "JKhV-xLEIVOa"
      },
      "source": [
        "**Trainig Error**"
      ]
    },
    {
      "cell_type": "code",
      "metadata": {
        "colab": {
          "base_uri": "https://localhost:8080/"
        },
        "id": "4qIubH_eFL_X",
        "outputId": "0c293403-0acd-4a87-cccf-78aa479d12b9"
      },
      "source": [
        "from sklearn.metrics import mean_squared_error\n",
        "Error = np.sqrt(mean_squared_error( Y_Train,Train_Predict) )\n",
        "print(Error)"
      ],
      "execution_count": 32,
      "outputs": [
        {
          "output_type": "stream",
          "text": [
            "140.19758039821005\n"
          ],
          "name": "stdout"
        }
      ]
    },
    {
      "cell_type": "markdown",
      "metadata": {
        "id": "-g505L7UIbO2"
      },
      "source": [
        "**Testing Error**"
      ]
    },
    {
      "cell_type": "code",
      "metadata": {
        "colab": {
          "base_uri": "https://localhost:8080/"
        },
        "id": "1TZC6oGuH_qa",
        "outputId": "5e1626ad-7f53-4aeb-e6d7-bf66b35eb5ce"
      },
      "source": [
        "Error_1 = np.sqrt(mean_squared_error(Y_Test,Test_predict))\n",
        "print(Error_1)"
      ],
      "execution_count": 33,
      "outputs": [
        {
          "output_type": "stream",
          "text": [
            "233.10169262029095\n"
          ],
          "name": "stdout"
        }
      ]
    },
    {
      "cell_type": "markdown",
      "metadata": {
        "id": "Gyr4qaj7MTG4"
      },
      "source": [
        "**Visualization**"
      ]
    },
    {
      "cell_type": "code",
      "metadata": {
        "colab": {
          "base_uri": "https://localhost:8080/",
          "height": 265
        },
        "id": "_wnZ_SmSMNgl",
        "outputId": "c42acea6-2800-410e-bee1-f7987b7da20a"
      },
      "source": [
        "# shift train predict \n",
        "Look_back = 100 \n",
        "Trainpredictplot = np.empty_like(Data_1)\n",
        "Trainpredictplot[:,:] = np.nan\n",
        "Trainpredictplot[Look_back: len(Train_Predict)+ Look_back, : ] = Train_Predict\n",
        "# shift test predict\n",
        "Testpredictplot = np.empty_like(Data_1)\n",
        "Testpredictplot[:,:] = np.nan\n",
        "Testpredictplot[len(Train_Predict) + (Look_back*2) + 1: len(Data_1)-1, : ] = Test_predict\n",
        "# Plot baseline and predictions\n",
        "plt.plot(Scalar.inverse_transform(Data_1))\n",
        "plt.plot(Trainpredictplot)\n",
        "plt.plot(Testpredictplot)\n",
        "plt.show()"
      ],
      "execution_count": 41,
      "outputs": [
        {
          "output_type": "display_data",
          "data": {
            "image/png": "[encoded data removed]",
            "text/plain": [
              "<Figure size 432x288 with 1 Axes>"
            ]
          },
          "metadata": {
            "tags": [],
            "needs_background": "light"
          }
        }
      ]
    },
    {
      "cell_type": "code",
      "metadata": {
        "id": "9pabUINYP95d"
      },
      "source": [
        ""
      ],
      "execution_count": null,
      "outputs": []
    },
    {
      "cell_type": "code",
      "metadata": {
        "id": "0YuCZiRPP9bo"
      },
      "source": [
        ""
      ],
      "execution_count": null,
      "outputs": []
    },
    {
      "cell_type": "code",
      "metadata": {
        "id": "viCMd3FtMNRu"
      },
      "source": [
        ""
      ],
      "execution_count": null,
      "outputs": []
    }
  ]
}